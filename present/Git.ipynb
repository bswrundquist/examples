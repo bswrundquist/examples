{
 "cells": [
  {
   "cell_type": "code",
   "execution_count": null,
   "metadata": {
    "collapsed": true
   },
   "outputs": [],
   "source": [
    "import os\n",
    "from IPython.display import Markdown # To help display images"
   ]
  },
  {
   "cell_type": "markdown",
   "metadata": {},
   "source": [
    "Jupyter needs the full path of images when exporting to different types of files. So 3 things printed below.\n",
    "\n",
    "1. Below we see how to get the full filename path. \n",
    "2. Put it in the Markdown format for images (\\![]\\(filepath\\img.PNG)). \n",
    "3. All PNG files listed out"
   ]
  },
  {
   "cell_type": "code",
   "execution_count": 51,
   "metadata": {
    "collapsed": false
   },
   "outputs": [
    {
     "name": "stdout",
     "output_type": "stream",
     "text": [
      "C:\\Users\\brundquist\\projects\\examples\\present\\img\\fake-name.PNG\n",
      "![](C:\\Users\\brundquist\\projects\\examples\\present\\img\\fake-name.PNG)\n",
      "add-commit.PNG\n",
      "add-feature-change.PNG\n",
      "add-status-commit.PNG\n",
      "all-together.PNG\n",
      "cli-clone.PNG\n",
      "clone.PNG\n",
      "create-branch-cli.PNG\n",
      "create-repo.PNG\n",
      "delete-PR-branch.PNG\n",
      "gui-PR.PNG\n",
      "img.PNG\n",
      "merge-PR.PNG\n",
      "open-PR.PNG\n",
      "pull.PNG\n",
      "push-feature-change.PNG\n",
      "push-feature.PNG\n",
      "pushPNG.PNG\n",
      "readme-1.PNG\n",
      "readme-changes.PNG\n",
      "readme-start.PNG\n",
      "readme.PNG\n",
      "repo-name-type.PNG\n",
      "second-push.PNG\n",
      "second-readme.PNG\n",
      "see-branch-gui.PNG\n",
      "vim-second-readme.PNG\n"
     ]
    }
   ],
   "source": [
    "path = os.path.join(os.getcwd(), \"img\", \"fake-name.PNG\")\n",
    "print_path = \"![]({path})\".format(path=path)\n",
    "print(path)\n",
    "print(print_path)\n",
    "import sys\n",
    "print(\"\\n\".join(os.listdir(os.path.dirname(path))))"
   ]
  },
  {
   "cell_type": "markdown",
   "metadata": {},
   "source": [
    "And putting in a function we can just call when we want to use a certain image."
   ]
  },
  {
   "cell_type": "code",
   "execution_count": 42,
   "metadata": {
    "collapsed": false
   },
   "outputs": [],
   "source": [
    "def print_img(img_name):\n",
    "    path = os.path.join(os.getcwd(), \"img\", img_name)\n",
    "    print_path = \"![]({path})\".format(path=path)\n",
    "    m_out = Markdown(print_path)\n",
    "    return m_out"
   ]
  },
  {
   "cell_type": "markdown",
   "metadata": {
    "nbpresent": {
     "id": "dc24b9c7-3e97-4125-9381-8fca7aee6090"
    }
   },
   "source": [
    "To start we will create a [repository](https://en.wikipedia.org/wiki/Repository_(version_control). \n",
    "\n",
    "Starting from the homepage click in the blue circle to create a repository."
   ]
  },
  {
   "cell_type": "code",
   "execution_count": 52,
   "metadata": {
    "collapsed": false
   },
   "outputs": [
    {
     "data": {
      "text/markdown": [
       "![](C:\\Users\\brundquist\\projects\\examples\\present\\img\\create-repo.PNG)"
      ],
      "text/plain": [
       "<IPython.core.display.Markdown object>"
      ]
     },
     "execution_count": 52,
     "metadata": {},
     "output_type": "execute_result"
    }
   ],
   "source": [
    "print_img(\"create-repo.PNG\")"
   ]
  },
  {
   "cell_type": "markdown",
   "metadata": {
    "collapsed": true
   },
   "source": [
    "Then we want to name the repository then choose if the repo is public or private. Private costs ~9 bucks a month and you get unlimited private and public repos. The free account is unlimited public repos."
   ]
  },
  {
   "cell_type": "code",
   "execution_count": 54,
   "metadata": {
    "collapsed": false
   },
   "outputs": [
    {
     "data": {
      "text/markdown": [
       "![](C:\\Users\\brundquist\\projects\\examples\\present\\img\\repo-name-type.PNG)"
      ],
      "text/plain": [
       "<IPython.core.display.Markdown object>"
      ]
     },
     "execution_count": 54,
     "metadata": {},
     "output_type": "execute_result"
    }
   ],
   "source": [
    "print_img(\"repo-name-type.PNG\")"
   ]
  },
  {
   "cell_type": "markdown",
   "metadata": {},
   "source": [
    "Then we initialize with a README file which is written in Markdown. This will essentially be the homepage of the repo. \n",
    "\n",
    "The .gitignore file tells git to ignore files so they don't get pushed up to the origin (Github, Bitbucket, etc.). "
   ]
  },
  {
   "cell_type": "code",
   "execution_count": 55,
   "metadata": {
    "collapsed": false
   },
   "outputs": [
    {
     "data": {
      "text/markdown": [
       "![](C:\\Users\\brundquist\\projects\\examples\\present\\img\\readme.PNG)"
      ],
      "text/plain": [
       "<IPython.core.display.Markdown object>"
      ]
     },
     "execution_count": 55,
     "metadata": {},
     "output_type": "execute_result"
    }
   ],
   "source": [
    "print_img(\"readme.PNG\")"
   ]
  },
  {
   "cell_type": "markdown",
   "metadata": {},
   "source": [
    "Now that the repo is created we want to download, or better yet clone, the repo. Many times this is at the top of the README file be let's go through it. At the homepage click the green button Clone or download and then click blue circle below. That copies the address."
   ]
  },
  {
   "cell_type": "code",
   "execution_count": 57,
   "metadata": {
    "collapsed": false
   },
   "outputs": [
    {
     "data": {
      "text/markdown": [
       "![](C:\\Users\\brundquist\\projects\\examples\\present\\img\\clone.PNG)"
      ],
      "text/plain": [
       "<IPython.core.display.Markdown object>"
      ]
     },
     "execution_count": 57,
     "metadata": {},
     "output_type": "execute_result"
    }
   ],
   "source": [
    "print_img(\"clone.PNG\")"
   ]
  },
  {
   "cell_type": "markdown",
   "metadata": {},
   "source": [
    "Then go to command line and use the `git clone` command with the URL that was just copied. This will copy everything into a folder with the name of the repo. Now use the `cd` terminal command (change directory) to the folder like below."
   ]
  },
  {
   "cell_type": "code",
   "execution_count": 62,
   "metadata": {
    "collapsed": false
   },
   "outputs": [
    {
     "data": {
      "text/markdown": [
       "![](C:\\Users\\brundquist\\projects\\examples\\present\\img\\cli-clone.PNG)"
      ],
      "text/plain": [
       "<IPython.core.display.Markdown object>"
      ]
     },
     "execution_count": 62,
     "metadata": {},
     "output_type": "execute_result"
    }
   ],
   "source": [
    "print_img(\"cli-clone.PNG\")"
   ]
  },
  {
   "cell_type": "markdown",
   "metadata": {},
   "source": [
    "We can see a .git folder that stores information about this project and the README.md file. Let's add to the README.md file and save the changes."
   ]
  },
  {
   "cell_type": "code",
   "execution_count": 58,
   "metadata": {
    "collapsed": false
   },
   "outputs": [
    {
     "data": {
      "text/markdown": [
       "![](C:\\Users\\brundquist\\projects\\examples\\present\\img\\readme-changes.PNG)"
      ],
      "text/plain": [
       "<IPython.core.display.Markdown object>"
      ]
     },
     "execution_count": 58,
     "metadata": {},
     "output_type": "execute_result"
    }
   ],
   "source": [
    "print_img(\"readme-changes.PNG\")"
   ]
  },
  {
   "cell_type": "markdown",
   "metadata": {},
   "source": [
    "After making the changes we will use the three main commands for adding changes to the repository, add, commit, push.\n",
    "\n",
    "1. git add\n",
    "    - Add all files that have changes made to them\n",
    "2. git commit\n",
    "    - Take all files added above and commit all their changes\n",
    "    - -m flag adds a message to each commit. Good messages help introspection\n",
    "3. git push\n",
    "    - Push all the changes up to the origin"
   ]
  },
  {
   "cell_type": "code",
   "execution_count": 59,
   "metadata": {
    "collapsed": false
   },
   "outputs": [
    {
     "data": {
      "text/markdown": [
       "![](C:\\Users\\brundquist\\projects\\examples\\present\\img\\add-commit.PNG)"
      ],
      "text/plain": [
       "<IPython.core.display.Markdown object>"
      ]
     },
     "execution_count": 59,
     "metadata": {},
     "output_type": "execute_result"
    }
   ],
   "source": [
    "print_img(\"add-commit.PNG\")"
   ]
  },
  {
   "cell_type": "code",
   "execution_count": 60,
   "metadata": {
    "collapsed": false
   },
   "outputs": [
    {
     "data": {
      "text/markdown": [
       "![](C:\\Users\\brundquist\\projects\\examples\\present\\img\\pushPNG.PNG)"
      ],
      "text/plain": [
       "<IPython.core.display.Markdown object>"
      ]
     },
     "execution_count": 60,
     "metadata": {},
     "output_type": "execute_result"
    }
   ],
   "source": [
    "print_img(\"pushPNG.PNG\")"
   ]
  },
  {
   "cell_type": "markdown",
   "metadata": {},
   "source": [
    "Refresh repo homepage and the bottom section is updated."
   ]
  },
  {
   "cell_type": "code",
   "execution_count": 61,
   "metadata": {
    "collapsed": false
   },
   "outputs": [
    {
     "data": {
      "text/markdown": [
       "![](C:\\Users\\brundquist\\projects\\examples\\present\\img\\readme-1.PNG)"
      ],
      "text/plain": [
       "<IPython.core.display.Markdown object>"
      ]
     },
     "execution_count": 61,
     "metadata": {},
     "output_type": "execute_result"
    }
   ],
   "source": [
    "print_img(\"readme-1.PNG\")"
   ]
  },
  {
   "cell_type": "markdown",
   "metadata": {},
   "source": [
    "Now let's add a Vagrantfile and update the README.md accordingly. Below is the updated README.md file."
   ]
  },
  {
   "cell_type": "code",
   "execution_count": 63,
   "metadata": {
    "collapsed": false
   },
   "outputs": [
    {
     "data": {
      "text/markdown": [
       "![](C:\\Users\\brundquist\\projects\\examples\\present\\img\\vim-second-readme.PNG)"
      ],
      "text/plain": [
       "<IPython.core.display.Markdown object>"
      ]
     },
     "execution_count": 63,
     "metadata": {},
     "output_type": "execute_result"
    }
   ],
   "source": [
    "print_img(\"vim-second-readme.PNG\")"
   ]
  },
  {
   "cell_type": "markdown",
   "metadata": {},
   "source": [
    "Now we can add both files at once or just the same use ..\n",
    "\n",
    "Below that a sometimes useful git command is `git status`. Shows what files have been added. "
   ]
  },
  {
   "cell_type": "code",
   "execution_count": 64,
   "metadata": {
    "collapsed": false
   },
   "outputs": [
    {
     "data": {
      "text/markdown": [
       "![](C:\\Users\\brundquist\\projects\\examples\\present\\img\\add-status-commit.PNG)"
      ],
      "text/plain": [
       "<IPython.core.display.Markdown object>"
      ]
     },
     "execution_count": 64,
     "metadata": {},
     "output_type": "execute_result"
    }
   ],
   "source": [
    "print_img(\"add-status-commit.PNG\")"
   ]
  },
  {
   "cell_type": "code",
   "execution_count": 65,
   "metadata": {
    "collapsed": false
   },
   "outputs": [
    {
     "data": {
      "text/markdown": [
       "![](C:\\Users\\brundquist\\projects\\examples\\present\\img\\second-readme.PNG)"
      ],
      "text/plain": [
       "<IPython.core.display.Markdown object>"
      ]
     },
     "execution_count": 65,
     "metadata": {},
     "output_type": "execute_result"
    }
   ],
   "source": [
    "print_img(\"second-readme.PNG\")"
   ]
  },
  {
   "cell_type": "markdown",
   "metadata": {
    "nbpresent": {
     "id": "a84a9187-0265-4217-bed5-681490bf6979"
    }
   },
   "source": [
    "Now we have a project working. Lastly, but very important, is whenever you come back to your project after a bit it's good practice to use the `git pull` command. This pulls down the most recent version of the repo and makes sure you are working on the most recent version."
   ]
  },
  {
   "cell_type": "code",
   "execution_count": 66,
   "metadata": {
    "collapsed": false
   },
   "outputs": [
    {
     "data": {
      "text/markdown": [
       "![](C:\\Users\\brundquist\\projects\\examples\\present\\img\\pull.PNG)"
      ],
      "text/plain": [
       "<IPython.core.display.Markdown object>"
      ]
     },
     "execution_count": 66,
     "metadata": {},
     "output_type": "execute_result"
    }
   ],
   "source": [
    "print_img(\"pull.PNG\")"
   ]
  },
  {
   "cell_type": "markdown",
   "metadata": {
    "nbpresent": {
     "id": "cbdbdc2c-6ff2-4e8d-8150-cec31baa14c6"
    }
   },
   "source": [
    "Everything is up to date. Now we would like to make some changes to the code, but in a way where we are not worried about messing up what is already there.\n",
    "\n",
    "To do this we will create a [feature branch](https://www.atlassian.com/git/tutorials/comparing-workflows#feature-branch-workflow).\n",
    "\n",
    "A git branch is an exact copy of the entire repository. Two commands will be useful here; `git branch` will tell us which branch we are on and `git checkout -b feature/name-of-branch` will create a branch named feature/name-of-branch."
   ]
  },
  {
   "cell_type": "code",
   "execution_count": 67,
   "metadata": {
    "collapsed": false
   },
   "outputs": [
    {
     "data": {
      "text/markdown": [
       "![](C:\\Users\\brundquist\\projects\\examples\\present\\img\\create-branch-cli.PNG)"
      ],
      "text/plain": [
       "<IPython.core.display.Markdown object>"
      ]
     },
     "execution_count": 67,
     "metadata": {},
     "output_type": "execute_result"
    }
   ],
   "source": [
    "print_img(\"create-branch-cli.PNG\")"
   ]
  },
  {
   "cell_type": "markdown",
   "metadata": {
    "nbpresent": {
     "id": "0b34ae21-c4eb-452f-a9f1-b2d0fe804b04"
    }
   },
   "source": [
    "The first command of `git branch` shows we are on the master branch and that is the only one we have on our local machine.\n",
    "\n",
    "The second command, `git checkout -b \"feature/notebook-example\"` creates a branch called feature/notebook-example. The prefix, feauture/, is just convention that indicates we are working on what we consider a feature to the repository. We could also have prefix for bugs (bugs/), hotfixes (hotfix/), etc. The part after the branch identifier is what is considered the name of the branch where many times uses the dash, '-', as the delimiter.\n",
    "\n",
    "Running `git branch` again shows us we have switched to the branch that was just created."
   ]
  },
  {
   "cell_type": "markdown",
   "metadata": {
    "nbpresent": {
     "id": "765ecee6-6035-4d3f-973f-7eace494b41d"
    }
   },
   "source": [
    "Now we want to make sure Github (or Bitbucket, etc) knows about the branch we just created. To do this we will again use `git push`. This will actually error but git gives great advice so I never remember the full command, just copy paste the recommendation."
   ]
  },
  {
   "cell_type": "code",
   "execution_count": 68,
   "metadata": {
    "collapsed": false
   },
   "outputs": [
    {
     "data": {
      "text/markdown": [
       "![](C:\\Users\\brundquist\\projects\\examples\\present\\img\\push-feature.PNG)"
      ],
      "text/plain": [
       "<IPython.core.display.Markdown object>"
      ]
     },
     "execution_count": 68,
     "metadata": {},
     "output_type": "execute_result"
    }
   ],
   "source": [
    "print_img(\"push-feature.PNG\")"
   ]
  },
  {
   "cell_type": "markdown",
   "metadata": {
    "nbpresent": {
     "id": "74425e3c-5ea1-4c63-9802-da144677df68"
    }
   },
   "source": [
    "It has a bunch of warnings that give updates to what defaults with git. Then at the end it has the command we want to use, `git push --set-upstream origin feature/notebook-example`.\n",
    "\n",
    "To make sure let's go to the UI and see the change."
   ]
  },
  {
   "cell_type": "code",
   "execution_count": 69,
   "metadata": {
    "collapsed": false
   },
   "outputs": [
    {
     "data": {
      "text/markdown": [
       "![](C:\\Users\\brundquist\\projects\\examples\\present\\img\\see-branch-gui.PNG)"
      ],
      "text/plain": [
       "<IPython.core.display.Markdown object>"
      ]
     },
     "execution_count": 69,
     "metadata": {},
     "output_type": "execute_result"
    }
   ],
   "source": [
    "print_img(\"see-branch-gui.PNG\")"
   ]
  },
  {
   "cell_type": "markdown",
   "metadata": {
    "nbpresent": {
     "id": "e3d205d8-023c-4585-9469-bf074dabaa70"
    }
   },
   "source": [
    "Now let's add a file to the feature/notebook-example branch.\n",
    "Below we can see that the file named Download CSV.ipynb. "
   ]
  },
  {
   "cell_type": "code",
   "execution_count": 70,
   "metadata": {
    "collapsed": false
   },
   "outputs": [
    {
     "data": {
      "text/markdown": [
       "![](C:\\Users\\brundquist\\projects\\examples\\present\\img\\add-feature-change.PNG)"
      ],
      "text/plain": [
       "<IPython.core.display.Markdown object>"
      ]
     },
     "execution_count": 70,
     "metadata": {},
     "output_type": "execute_result"
    }
   ],
   "source": [
    "print_img(\"add-feature-change.PNG\")"
   ]
  },
  {
   "cell_type": "markdown",
   "metadata": {
    "nbpresent": {
     "id": "4fb1d898-fdc7-407d-8208-d87afbbf7b5e"
    }
   },
   "source": [
    "Again we will want to add commit push."
   ]
  },
  {
   "cell_type": "code",
   "execution_count": 71,
   "metadata": {
    "collapsed": false
   },
   "outputs": [
    {
     "data": {
      "text/markdown": [
       "![](C:\\Users\\brundquist\\projects\\examples\\present\\img\\push-feature-change.PNG)"
      ],
      "text/plain": [
       "<IPython.core.display.Markdown object>"
      ]
     },
     "execution_count": 71,
     "metadata": {},
     "output_type": "execute_result"
    }
   ],
   "source": [
    "print_img(\"push-feature-change.PNG\")"
   ]
  },
  {
   "cell_type": "markdown",
   "metadata": {},
   "source": [
    "Now the feature is ready to be used and would like to join it back with master, create a Pull Request. Doing it from the GUI is easiest as below."
   ]
  },
  {
   "cell_type": "code",
   "execution_count": 73,
   "metadata": {
    "collapsed": false
   },
   "outputs": [
    {
     "data": {
      "text/markdown": [
       "![](C:\\Users\\brundquist\\projects\\examples\\present\\img\\gui-PR.PNG)"
      ],
      "text/plain": [
       "<IPython.core.display.Markdown object>"
      ]
     },
     "execution_count": 73,
     "metadata": {},
     "output_type": "execute_result"
    }
   ],
   "source": [
    "print_img(\"gui-PR.PNG\")"
   ]
  },
  {
   "cell_type": "markdown",
   "metadata": {},
   "source": [
    "A pull request is saying \"I am pulling down the code and requesting to make a change\". At this point one would add comments on changes made, bug fixed, etc, and once the pull request is made it now gets reviewed."
   ]
  },
  {
   "cell_type": "code",
   "execution_count": 72,
   "metadata": {
    "collapsed": false
   },
   "outputs": [
    {
     "data": {
      "text/markdown": [
       "![](C:\\Users\\brundquist\\projects\\examples\\present\\img\\open-PR.PNG)"
      ],
      "text/plain": [
       "<IPython.core.display.Markdown object>"
      ]
     },
     "execution_count": 72,
     "metadata": {},
     "output_type": "execute_result"
    }
   ],
   "source": [
    "print_img(\"open-PR.PNG\")"
   ]
  },
  {
   "cell_type": "markdown",
   "metadata": {},
   "source": [
    "Once everyone reviews and is happy with changes, below is the option to merge the feature branch into master."
   ]
  },
  {
   "cell_type": "code",
   "execution_count": 74,
   "metadata": {
    "collapsed": false
   },
   "outputs": [
    {
     "data": {
      "text/markdown": [
       "![](C:\\Users\\brundquist\\projects\\examples\\present\\img\\merge-PR.PNG)"
      ],
      "text/plain": [
       "<IPython.core.display.Markdown object>"
      ]
     },
     "execution_count": 74,
     "metadata": {},
     "output_type": "execute_result"
    }
   ],
   "source": [
    "print_img(\"merge-PR.PNG\")"
   ]
  },
  {
   "cell_type": "markdown",
   "metadata": {},
   "source": [
    "Below we can see that master now has the changes from the feature branch."
   ]
  },
  {
   "cell_type": "code",
   "execution_count": 75,
   "metadata": {
    "collapsed": false
   },
   "outputs": [
    {
     "data": {
      "text/markdown": [
       "![](C:\\Users\\brundquist\\projects\\examples\\present\\img\\all-together.PNG)"
      ],
      "text/plain": [
       "<IPython.core.display.Markdown object>"
      ]
     },
     "execution_count": 75,
     "metadata": {},
     "output_type": "execute_result"
    }
   ],
   "source": [
    "print_img(\"all-together.PNG\")"
   ]
  }
 ],
 "metadata": {
  "anaconda-cloud": {},
  "kernelspec": {
   "display_name": "Python [conda root]",
   "language": "python",
   "name": "conda-root-py"
  },
  "language_info": {
   "codemirror_mode": {
    "name": "ipython",
    "version": 2
   },
   "file_extension": ".py",
   "mimetype": "text/x-python",
   "name": "python",
   "nbconvert_exporter": "python",
   "pygments_lexer": "ipython2",
   "version": "2.7.12"
  }
 },
 "nbformat": 4,
 "nbformat_minor": 1
}
